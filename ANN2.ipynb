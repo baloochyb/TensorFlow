{
  "nbformat": 4,
  "nbformat_minor": 0,
  "metadata": {
    "colab": {
      "provenance": [],
      "authorship_tag": "ABX9TyNwHX8dAFGj/a7iV0oWxkHD",
      "include_colab_link": true
    },
    "kernelspec": {
      "name": "python3",
      "display_name": "Python 3"
    },
    "language_info": {
      "name": "python"
    }
  },
  "cells": [
    {
      "cell_type": "markdown",
      "metadata": {
        "id": "view-in-github",
        "colab_type": "text"
      },
      "source": [
        "<a href=\"https://colab.research.google.com/github/baloochyb/TensorFlow/blob/main/ANN2.ipynb\" target=\"_parent\"><img src=\"https://colab.research.google.com/assets/colab-badge.svg\" alt=\"Open In Colab\"/></a>"
      ]
    },
    {
      "cell_type": "markdown",
      "source": [
        "# Gradient calculations for gradient descent algorithms\n",
        "tf.GradientTape: Context records computations so that you can call tf.gradient() to get the gradients of any tensor computed while recording with respect to any trainable variable.\n",
        "\n",
        "We will look at the most popular of these, tf.GradientTape. Again, within its context, as a calculation takes place, a record (tape) is made of those calculations so that the tape can be replayed with tf.gradient() and the appropriate automatic differentiation is be implemented.\n",
        "\n",
        "In the following code, when the sum method is calculated, the tape records the calculations within the tf.GradientTape() context so that the automatic differentiation can be found by calling tape.gradient().\n",
        "\n",
        "By default, only one call to tape.gradient() may be made:"
      ],
      "metadata": {
        "id": "7maY6qcyqGUG"
      }
    },
    {
      "cell_type": "code",
      "execution_count": 4,
      "metadata": {
        "colab": {
          "base_uri": "https://localhost:8080/"
        },
        "id": "NzuXl_luW80V",
        "outputId": "04bbcc55-6a60-4de3-eef9-91d88bc49f79"
      },
      "outputs": [
        {
          "output_type": "stream",
          "name": "stdout",
          "text": [
            "7.0\n"
          ]
        }
      ],
      "source": [
        "import tensorflow as tf\n",
        "\n",
        "# by default, you can only call tape.gradient once in a GradientTape context\n",
        "weight1 = tf.Variable(2.0)\n",
        "def weighted_sum(x1):\n",
        "  return weight1 * x1\n",
        "with tf.GradientTape() as tape:\n",
        "  sum = weighted_sum(7.)\n",
        "[weight1_grad] = tape.gradient(sum, [weight1])\n",
        "print(weight1_grad.numpy()) # 7 , weight1*x diff w.r.t. weight1 is x, 7.0, also see below."
      ]
    },
    {
      "cell_type": "markdown",
      "source": [
        "In this next example, note that the argument, persistent=True, has been passed to tf.GradientTape(). This allows us to call tape.gradient() more than once. Again, we compute a weighted sum inside the tf.GradientTape context and then call tape.gradient() to calculate the derivatives of each term with respect to its weight variable:"
      ],
      "metadata": {
        "id": "DwA3OTewqt6J"
      }
    },
    {
      "cell_type": "code",
      "source": [
        "# if you need to call tape.gradient() more than once\n",
        "# use GradientTape(persistent=True)\n",
        "weight1 = tf.Variable(2.0)\n",
        "weight2 = tf.Variable(3.0)\n",
        "weight3 = tf.Variable(5.0)\n",
        "\n",
        "def weighted_sum(x1, x2, x3):\n",
        "  return weight1*x1 + weight2*x2 + weight3*x3\n",
        "\n",
        "with tf.GradientTape(persistent=True) as tape:\n",
        "  sum = weighted_sum(7.,5.,6.)\n",
        "[weight1_grad] = tape.gradient(sum, [weight1])\n",
        "[weight2_grad] = tape.gradient(sum, [weight2])\n",
        "[weight3_grad] = tape.gradient(sum, [weight3])\n",
        "\n",
        "print(weight1_grad.numpy()) #7.0\n",
        "print(weight2_grad.numpy()) #5.0\n",
        "print(weight3_grad.numpy()) #6.0"
      ],
      "metadata": {
        "colab": {
          "base_uri": "https://localhost:8080/"
        },
        "id": "YFaFpJwvp1PG",
        "outputId": "0615659d-1e79-41e8-9c77-8a24ffc10956"
      },
      "execution_count": 5,
      "outputs": [
        {
          "output_type": "stream",
          "name": "stdout",
          "text": [
            "7.0\n",
            "5.0\n",
            "6.0\n"
          ]
        }
      ]
    }
  ]
}