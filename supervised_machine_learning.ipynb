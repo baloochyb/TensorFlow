{
  "nbformat": 4,
  "nbformat_minor": 0,
  "metadata": {
    "colab": {
      "provenance": [],
      "authorship_tag": "ABX9TyPeB6FDjru586jzsCXo+KXv",
      "include_colab_link": true
    },
    "kernelspec": {
      "name": "python3",
      "display_name": "Python 3"
    },
    "language_info": {
      "name": "python"
    }
  },
  "cells": [
    {
      "cell_type": "markdown",
      "metadata": {
        "id": "view-in-github",
        "colab_type": "text"
      },
      "source": [
        "<a href=\"https://colab.research.google.com/github/baloochyb/TensorFlow/blob/main/supervised_machine_learning.ipynb\" target=\"_parent\"><img src=\"https://colab.research.google.com/assets/colab-badge.svg\" alt=\"Open In Colab\"/></a>"
      ]
    },
    {
      "cell_type": "markdown",
      "source": [
        "# linear regression"
      ],
      "metadata": {
        "id": "xlWB2gU7-xpA"
      }
    },
    {
      "cell_type": "markdown",
      "source": [
        "`After our imports and initialization, we enter a loop. Inside this loop, we calculate the overall loss (defined as the mean squared error over our dataset, y, of points). We then take the derivative of this loss with respect to our weights and bias. This produces values that we can use to adjust our weights and bias to lower the loss; this is known as gradient descent. By repeating this loop a number of times (technically called epochs), we can lower our loss to the point where it is as low as it can go, and we can use our trained model to make predictions.`\n"
      ],
      "metadata": {
        "id": "6oSSPiqGtmbT"
      }
    },
    {
      "cell_type": "code",
      "execution_count": 3,
      "metadata": {
        "id": "c8UNyxB3LaCt",
        "colab": {
          "base_uri": "https://localhost:8080/",
          "height": 489
        },
        "outputId": "9c46931b-1572-4541-fa49-2ce8debe21a8"
      },
      "outputs": [
        {
          "output_type": "stream",
          "name": "stdout",
          "text": [
            "Initial loss: 52.321\n"
          ]
        },
        {
          "output_type": "display_data",
          "data": {
            "text/plain": [
              "<Figure size 640x480 with 1 Axes>"
            ],
            "image/png": "[encoded data removed]"
          },
          "metadata": {}
        }
      ],
      "source": [
        "import tensorflow as tf\n",
        "import numpy as np\n",
        "import matplotlib.pyplot as plt\n",
        "\n",
        "n_examples = 1000 # number of training examples\n",
        "training_steps = 1000 # number of steps we are going to train for\n",
        "display_step = 100 # after multiples of this, we display the loss\n",
        "learning_rate = 0.01 # multiplying factor on gradients\n",
        "m, c = 6, -5 # gradient and y-intercept of our line, edit these for a different linear problem\n",
        "\n",
        "def train_data(n, m, c):\n",
        "  x = tf.random.normal([n]) # n values taken from a normal distribution\n",
        "  noise = tf.random.normal([n]) # n values taken from a normal distribution\n",
        "  y = m*x + c + noise # our scatter plot\n",
        "  return x, y\n",
        "def prediction(x, weight, bias):\n",
        "  return weight*x + bias # our predicted (learned) m and c, expression is like y = m*x + c\n",
        "def loss(x, y, weights, biases):\n",
        "  error = prediction(x, weights, biases) - y # how 'wrong' our predicted (learned) y is\n",
        "  squared_error = tf.square(error)\n",
        "  return tf.reduce_mean(input_tensor=squared_error) # overall mean of squared error, scalar value.\n",
        "def grad(x, y, weights, biases):\n",
        "  with tf.GradientTape() as tape:\n",
        "    loss_ = loss(x, y, weights, biases)\n",
        "  return tape.gradient(loss_, [weights, biases]) # direction and value of the gradient of our weights and biases\n",
        "\n",
        "x, y = train_data(n_examples,m,c) # our training values x and y\n",
        "plt.scatter(x,y)\n",
        "plt.xlabel(\"x\")\n",
        "plt.ylabel(\"y\")\n",
        "plt.title(\"Figure 1: Training Data\")\n",
        "W = tf.Variable(np.random.randn()) # initial, random, value for predicted weight (m)\n",
        "B = tf.Variable(np.random.randn()) # initial, random, value for predicted bias (c)\n",
        "print(\"Initial loss: {:.3f}\".format(loss(x, y, W, B)))\n"
      ]
    },
    {
      "cell_type": "code",
      "source": [
        "for step in range(training_steps): #iterate for each training step\n",
        "  deltaW, deltaB = grad(x, y, W, B) # direction(sign) and value of the gradients of our loss with respect to our weights and bias\n",
        "  change_W = deltaW * learning_rate # adjustment amount for weight\n",
        "  change_B = deltaB * learning_rate # adjustment amount for bias\n",
        "  W.assign_sub(change_W) # subract change_W from W\n",
        "  B.assign_sub(change_B) # subract change_B from B\n",
        "  if step==0 or step % display_step == 0:\n",
        "    # print(deltaW.numpy(), deltaB.numpy()) # uncomment if you want to see the gradients\n",
        "    print(\"Loss at step {:02d}: {:.6f}\".format(step, loss(x, y, W, B)))\n"
      ],
      "metadata": {
        "colab": {
          "base_uri": "https://localhost:8080/"
        },
        "id": "4T9DbVcyvJKp",
        "outputId": "2a42a02c-a6fb-4ff7-cff9-1f834f4f0d48"
      },
      "execution_count": 4,
      "outputs": [
        {
          "output_type": "stream",
          "name": "stdout",
          "text": [
            "Loss at step 00: 50.279434\n",
            "Loss at step 100: 1.808646\n",
            "Loss at step 200: 0.962011\n",
            "Loss at step 300: 0.947034\n",
            "Loss at step 400: 0.946767\n",
            "Loss at step 500: 0.946762\n",
            "Loss at step 600: 0.946762\n",
            "Loss at step 700: 0.946762\n",
            "Loss at step 800: 0.946762\n",
            "Loss at step 900: 0.946762\n"
          ]
        }
      ]
    },
    {
      "cell_type": "code",
      "source": [
        "print(\"Final loss: {:.3f}\".format(loss(x, y, W, B)))\n",
        "print(\"W = {}, B = {}\".format(W.numpy(), B.numpy()))\n",
        "print(\"Compared with m = {:.3f}, c = {:.3f}\".format(m, c),\" of the original line\")\n",
        "xs = np.linspace(-3, 4, 50)\n",
        "ys = W.numpy()*xs + B.numpy()\n",
        "plt.scatter(xs,ys)\n",
        "plt.xlabel(\"x\")\n",
        "plt.ylabel(\"y\")\n",
        "plt.title(\"Figure 2: Line of Best Fit\")"
      ],
      "metadata": {
        "colab": {
          "base_uri": "https://localhost:8080/",
          "height": 541
        },
        "id": "p3MxwyQn8sQM",
        "outputId": "6bf56d17-bdac-48cb-c497-0aa033f90de1"
      },
      "execution_count": 5,
      "outputs": [
        {
          "output_type": "stream",
          "name": "stdout",
          "text": [
            "Final loss: 0.947\n",
            "W = 6.0171918869018555, B = -4.952188491821289\n",
            "Compared with m = 6.000, c = -5.000  of the original line\n"
          ]
        },
        {
          "output_type": "execute_result",
          "data": {
            "text/plain": [
              "Text(0.5, 1.0, 'Figure 2: Line of Best Fit')"
            ]
          },
          "metadata": {},
          "execution_count": 5
        },
        {
          "output_type": "display_data",
          "data": {
            "text/plain": [
              "<Figure size 640x480 with 1 Axes>"
            ],
            "image/png": "[encoded data removed]"
          },
          "metadata": {}
        }
      ]
    },
    {
      "cell_type": "markdown",
      "source": [
        "# The Boston housing dataset"
      ],
      "metadata": {
        "id": "8SZh8qpi_K1Q"
      }
    },
    {
      "cell_type": "code",
      "source": [
        "import tensorflow as tf\n",
        "from sklearn.datasets import load_boston\n",
        "from sklearn.preprocessing import scale\n",
        "import numpy as np\n",
        "\n",
        "learning_rate = 0.01\n",
        "epochs = 10000\n",
        "display_epoch = epochs//20\n",
        "n_train = 300\n",
        "n_valid = 100\n",
        "\n",
        "features, prices = load_boston(True)\n",
        "n_test = len(features) - n_train - n_valid\n",
        "\n",
        "# Keep n_train samples for training\n",
        "train_features = tf.cast(scale(features[:n_train]), dtype=tf.float32)\n",
        "train_prices = prices[:n_train]\n",
        "\n",
        "# Keep n_valid samples for validation\n",
        "valid_features = tf.cast(scale(features[n_train:n_train+n_valid]), dtype=tf.float32)\n",
        "valid_prices = prices[n_train:n_train+n_valid]\n",
        "\n",
        "# Keep remaining n_test data points as test set)\n",
        "test_features = tf.cast(scale(features[n_train+n_valid:n_train+n_valid+n_test]), dtype=tf.float32)\n",
        "test_prices = prices[n_train + n_valid : n_train + n_valid + n_test]\n",
        "\n",
        "# A loss function using root mean-squared error\n",
        "def loss(x, y, weights, bias):\n",
        "  error = prediction(x, weights, bias) - y # how 'wrong' our predicted (learned) y is\n",
        "  squared_error = tf.square(error)\n",
        "  return tf.sqrt(tf.reduce_mean(input_tensor=squared_error)) # squre root of overall mean of squared error.\n",
        "# Find the derivative of loss with respect to weight and bias\n",
        "def gradient(x, y, weights, bias):\n",
        "  with tf.GradientTape() as tape:\n",
        "    loss_value = loss(x, y, weights, bias)\n",
        "  return tape.gradient(loss_value, [weights, bias])# direction and value of the gradient of our weight and bias\n",
        "\n",
        "# Start with random values for W and B on the same batch of data\n",
        "W = tf.Variable(tf.random.normal([13, 1], mean=0.0, stddev=1.0, dtype=tf.float32))\n",
        "B = tf.Variable(tf.zeros(1) , dtype = tf.float32)\n",
        "print(W, B)\n",
        "print(\"Initial loss: {:.3f}\".format(loss(train_features, train_prices, W, B)))\n",
        "\n",
        "for e in range(epochs): #iterate for each training epoch\n",
        "  deltaW, deltaB = gradient(train_features, train_prices, W, B) # direction (sign) and value of the gradient of our weight and bias\n",
        "  change_W = deltaW * learning_rate # adjustment amount for weight\n",
        "  change_B = deltaB * learning_rate # adjustment amount for bias\n",
        "  W.assign_sub(change_W) # subract from W\n",
        "  B.assign_sub(change_B) # subract from B\n",
        "  if e==0 or e % display_epoch == 0:\n",
        "    # print(deltaW.numpy(), deltaB.numpy()) # uncomment if you want to see the gradients\n",
        "    print(\"Validation loss after epoch {:02d}: {:.3f}\".format(e, loss(valid_features, valid_prices, W, B)))\n",
        "\n",
        "example_house = 69\n",
        "y = test_prices[example_house]\n",
        "y_pred = prediction(test_features,W.numpy(),B.numpy())[example_house]\n",
        "print(\"Actual median house value\",y,\" in $10K\")\n",
        "print(\"Predicted median house value \",y_pred.numpy(),\" in $10K\")"
      ],
      "metadata": {
        "id": "In0w0t0L_P-D",
        "outputId": "51f44272-b2f0-4bdf-f746-b7943c4e6d2b",
        "colab": {
          "base_uri": "https://localhost:8080/",
          "height": 1000
        }
      },
      "execution_count": 9,
      "outputs": [
        {
          "output_type": "error",
          "ename": "ImportError",
          "evalue": "ignored",
          "traceback": [
            "\u001b[0;31m---------------------------------------------------------------------------\u001b[0m",
            "\u001b[0;31mImportError\u001b[0m                               Traceback (most recent call last)",
            "\u001b[0;32m<ipython-input-9-3e3951f24a20>\u001b[0m in \u001b[0;36m<cell line: 2>\u001b[0;34m()\u001b[0m\n\u001b[1;32m      1\u001b[0m \u001b[0;32mimport\u001b[0m \u001b[0mtensorflow\u001b[0m \u001b[0;32mas\u001b[0m \u001b[0mtf\u001b[0m\u001b[0;34m\u001b[0m\u001b[0;34m\u001b[0m\u001b[0m\n\u001b[0;32m----> 2\u001b[0;31m \u001b[0;32mfrom\u001b[0m \u001b[0msklearn\u001b[0m\u001b[0;34m.\u001b[0m\u001b[0mdatasets\u001b[0m \u001b[0;32mimport\u001b[0m \u001b[0mload_boston\u001b[0m\u001b[0;34m\u001b[0m\u001b[0;34m\u001b[0m\u001b[0m\n\u001b[0m\u001b[1;32m      3\u001b[0m \u001b[0;32mfrom\u001b[0m \u001b[0msklearn\u001b[0m\u001b[0;34m.\u001b[0m\u001b[0mpreprocessing\u001b[0m \u001b[0;32mimport\u001b[0m \u001b[0mscale\u001b[0m\u001b[0;34m\u001b[0m\u001b[0;34m\u001b[0m\u001b[0m\n\u001b[1;32m      4\u001b[0m \u001b[0;32mimport\u001b[0m \u001b[0mnumpy\u001b[0m \u001b[0;32mas\u001b[0m \u001b[0mnp\u001b[0m\u001b[0;34m\u001b[0m\u001b[0;34m\u001b[0m\u001b[0m\n\u001b[1;32m      5\u001b[0m \u001b[0;34m\u001b[0m\u001b[0m\n",
            "\u001b[0;32m/usr/local/lib/python3.10/dist-packages/sklearn/datasets/__init__.py\u001b[0m in \u001b[0;36m__getattr__\u001b[0;34m(name)\u001b[0m\n\u001b[1;32m    154\u001b[0m             \"\"\"\n\u001b[1;32m    155\u001b[0m         )\n\u001b[0;32m--> 156\u001b[0;31m         \u001b[0;32mraise\u001b[0m \u001b[0mImportError\u001b[0m\u001b[0;34m(\u001b[0m\u001b[0mmsg\u001b[0m\u001b[0;34m)\u001b[0m\u001b[0;34m\u001b[0m\u001b[0;34m\u001b[0m\u001b[0m\n\u001b[0m\u001b[1;32m    157\u001b[0m     \u001b[0;32mtry\u001b[0m\u001b[0;34m:\u001b[0m\u001b[0;34m\u001b[0m\u001b[0;34m\u001b[0m\u001b[0m\n\u001b[1;32m    158\u001b[0m         \u001b[0;32mreturn\u001b[0m \u001b[0mglobals\u001b[0m\u001b[0;34m(\u001b[0m\u001b[0;34m)\u001b[0m\u001b[0;34m[\u001b[0m\u001b[0mname\u001b[0m\u001b[0;34m]\u001b[0m\u001b[0;34m\u001b[0m\u001b[0;34m\u001b[0m\u001b[0m\n",
            "\u001b[0;31mImportError\u001b[0m: \n`load_boston` has been removed from scikit-learn since version 1.2.\n\nThe Boston housing prices dataset has an ethical problem: as\ninvestigated in [1], the authors of this dataset engineered a\nnon-invertible variable \"B\" assuming that racial self-segregation had a\npositive impact on house prices [2]. Furthermore the goal of the\nresearch that led to the creation of this dataset was to study the\nimpact of air quality but it did not give adequate demonstration of the\nvalidity of this assumption.\n\nThe scikit-learn maintainers therefore strongly discourage the use of\nthis dataset unless the purpose of the code is to study and educate\nabout ethical issues in data science and machine learning.\n\nIn this special case, you can fetch the dataset from the original\nsource::\n\n    import pandas as pd\n    import numpy as np\n\n    data_url = \"http://lib.stat.cmu.edu/datasets/boston\"\n    raw_df = pd.read_csv(data_url, sep=\"\\s+\", skiprows=22, header=None)\n    data = np.hstack([raw_df.values[::2, :], raw_df.values[1::2, :2]])\n    target = raw_df.values[1::2, 2]\n\nAlternative datasets include the California housing dataset and the\nAmes housing dataset. You can load the datasets as follows::\n\n    from sklearn.datasets import fetch_california_housing\n    housing = fetch_california_housing()\n\nfor the California housing dataset and::\n\n    from sklearn.datasets import fetch_openml\n    housing = fetch_openml(name=\"house_prices\", as_frame=True)\n\nfor the Ames housing dataset.\n\n[1] M Carlisle.\n\"Racist data destruction?\"\n<https://medium.com/@docintangible/racist-data-destruction-113e3eff54a8>\n\n[2] Harrison Jr, David, and Daniel L. Rubinfeld.\n\"Hedonic housing prices and the demand for clean air.\"\nJournal of environmental economics and management 5.1 (1978): 81-102.\n<https://www.researchgate.net/publication/4974606_Hedonic_housing_prices_and_the_demand_for_clean_air>\n",
            "",
            "\u001b[0;31m---------------------------------------------------------------------------\u001b[0;32m\nNOTE: If your import is failing due to a missing package, you can\nmanually install dependencies using either !pip or !apt.\n\nTo view examples of installing some common dependencies, click the\n\"Open Examples\" button below.\n\u001b[0;31m---------------------------------------------------------------------------\u001b[0m\n"
          ],
          "errorDetails": {
            "actions": [
              {
                "action": "open_url",
                "actionText": "Open Examples",
                "url": "/notebooks/snippets/importing_libraries.ipynb"
              }
            ]
          }
        }
      ]
    }
  ]
}