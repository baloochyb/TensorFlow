{
  "nbformat": 4,
  "nbformat_minor": 0,
  "metadata": {
    "colab": {
      "provenance": [],
      "gpuType": "T4",
      "authorship_tag": "ABX9TyPrHgfQzYTLxSJV7sZym0l/",
      "include_colab_link": true
    },
    "kernelspec": {
      "name": "python3",
      "display_name": "Python 3"
    },
    "language_info": {
      "name": "python"
    },
    "accelerator": "TPU"
  },
  "cells": [
    {
      "cell_type": "markdown",
      "metadata": {
        "id": "view-in-github",
        "colab_type": "text"
      },
      "source": [
        "<a href=\"https://colab.research.google.com/github/baloochyb/TensorFlow/blob/main/ANN1.ipynb\" target=\"_parent\"><img src=\"https://colab.research.google.com/assets/colab-badge.svg\" alt=\"Open In Colab\"/></a>"
      ]
    },
    {
      "cell_type": "markdown",
      "source": [
        "# Presenting data to an ANN"
      ],
      "metadata": {
        "id": "tquYwo4s40ba"
      }
    },
    {
      "cell_type": "markdown",
      "source": [
        "**Using NumPy arrays with datasets**"
      ],
      "metadata": {
        "id": "FfRaN5_C45sS"
      }
    },
    {
      "cell_type": "code",
      "execution_count": 10,
      "metadata": {
        "id": "lXOBIu-O5I7g",
        "colab": {
          "base_uri": "https://localhost:8080/"
        },
        "outputId": "e98d355c-8eb7-40f8-9b6a-d1f8ef5c0ea5"
      },
      "outputs": [
        {
          "output_type": "stream",
          "name": "stdout",
          "text": [
            "0\n",
            "1\n",
            "2\n",
            "3\n",
            "4\n",
            "5\n",
            "6\n",
            "7\n",
            "8\n",
            "9\n",
            "10\n",
            "[0 1 2]\n",
            "[3 4 5]\n",
            "[6 7 8]\n",
            "[ 9 10]\n"
          ]
        }
      ],
      "source": [
        "import tensorflow as tf\n",
        "import numpy as np\n",
        "\n",
        "num_items = 11\n",
        "num_list1 = np.arange(num_items)\n",
        "num_list2 = np.arange(num_items,num_items*2)\n",
        "\n",
        "num_list1_dataset = tf.data.Dataset.from_tensor_slices(num_list1)\n",
        "iterator = tf.compat.v1.data.make_one_shot_iterator(num_list1_dataset)\n",
        "for item in num_list1_dataset:\n",
        "  num = iterator.get_next().numpy()\n",
        "  print(num)\n",
        "\n",
        "num_list1_dataset = tf.data.Dataset.from_tensor_slices(num_list1).batch(3, drop_remainder = False)\n",
        "iterator = tf.compat.v1.data.make_one_shot_iterator(num_list1_dataset)\n",
        "for item in num_list1_dataset:\n",
        "  num = iterator.get_next().numpy()\n",
        "  print(num)\n"
      ]
    },
    {
      "cell_type": "code",
      "source": [
        "dataset1 = [1,2,3,4,5]\n",
        "dataset2 = ['a','e','i','o','u']\n",
        "dataset1 = tf.data.Dataset.from_tensor_slices(dataset1)\n",
        "dataset2 = tf.data.Dataset.from_tensor_slices(dataset2)\n",
        "zipped_datasets = tf.data.Dataset.zip((dataset1, dataset2))\n",
        "iterator = tf.compat.v1.data.make_one_shot_iterator(zipped_datasets)\n",
        "for item in zipped_datasets:\n",
        "  num = iterator.get_next()\n",
        "  print(num)\n"
      ],
      "metadata": {
        "id": "4Ceej0if3euR",
        "outputId": "a866b64a-3975-4eeb-a240-01c1477cc037",
        "colab": {
          "base_uri": "https://localhost:8080/"
        }
      },
      "execution_count": 11,
      "outputs": [
        {
          "output_type": "stream",
          "name": "stdout",
          "text": [
            "(<tf.Tensor: shape=(), dtype=int32, numpy=1>, <tf.Tensor: shape=(), dtype=string, numpy=b'a'>)\n",
            "(<tf.Tensor: shape=(), dtype=int32, numpy=2>, <tf.Tensor: shape=(), dtype=string, numpy=b'e'>)\n",
            "(<tf.Tensor: shape=(), dtype=int32, numpy=3>, <tf.Tensor: shape=(), dtype=string, numpy=b'i'>)\n",
            "(<tf.Tensor: shape=(), dtype=int32, numpy=4>, <tf.Tensor: shape=(), dtype=string, numpy=b'o'>)\n",
            "(<tf.Tensor: shape=(), dtype=int32, numpy=5>, <tf.Tensor: shape=(), dtype=string, numpy=b'u'>)\n"
          ]
        }
      ]
    },
    {
      "cell_type": "code",
      "source": [
        "ds1 = tf.data.Dataset.from_tensor_slices([1,2,3,5,7,11,13,17])\n",
        "ds2 = tf.data.Dataset.from_tensor_slices([19,23,29,31,37,41])\n",
        "ds3 = ds1.concatenate(ds2)\n",
        "print(ds3)\n",
        "iterator = tf.compat.v1.data.make_one_shot_iterator(ds3)\n",
        "for i in range(14):\n",
        "  num = iterator.get_next()\n",
        "  print(num)"
      ],
      "metadata": {
        "id": "fiiTWp823_MZ",
        "outputId": "248d09fd-5ca5-4906-c563-aa744513bca2",
        "colab": {
          "base_uri": "https://localhost:8080/"
        }
      },
      "execution_count": 12,
      "outputs": [
        {
          "output_type": "stream",
          "name": "stdout",
          "text": [
            "<_ConcatenateDataset element_spec=TensorSpec(shape=(), dtype=tf.int32, name=None)>\n",
            "tf.Tensor(1, shape=(), dtype=int32)\n",
            "tf.Tensor(2, shape=(), dtype=int32)\n",
            "tf.Tensor(3, shape=(), dtype=int32)\n",
            "tf.Tensor(5, shape=(), dtype=int32)\n",
            "tf.Tensor(7, shape=(), dtype=int32)\n",
            "tf.Tensor(11, shape=(), dtype=int32)\n",
            "tf.Tensor(13, shape=(), dtype=int32)\n",
            "tf.Tensor(17, shape=(), dtype=int32)\n",
            "tf.Tensor(19, shape=(), dtype=int32)\n",
            "tf.Tensor(23, shape=(), dtype=int32)\n",
            "tf.Tensor(29, shape=(), dtype=int32)\n",
            "tf.Tensor(31, shape=(), dtype=int32)\n",
            "tf.Tensor(37, shape=(), dtype=int32)\n",
            "tf.Tensor(41, shape=(), dtype=int32)\n"
          ]
        }
      ]
    },
    {
      "cell_type": "code",
      "source": [
        "epochs=2\n",
        "for e in range(epochs):\n",
        "  for item in ds3:\n",
        "    print(item)"
      ],
      "metadata": {
        "id": "dqZHQG9C4fTC",
        "outputId": "f11d26e2-58c1-480f-8ce6-e9ab6b0a4d32",
        "colab": {
          "base_uri": "https://localhost:8080/"
        }
      },
      "execution_count": 14,
      "outputs": [
        {
          "output_type": "stream",
          "name": "stdout",
          "text": [
            "tf.Tensor(1, shape=(), dtype=int32)\n",
            "tf.Tensor(2, shape=(), dtype=int32)\n",
            "tf.Tensor(3, shape=(), dtype=int32)\n",
            "tf.Tensor(5, shape=(), dtype=int32)\n",
            "tf.Tensor(7, shape=(), dtype=int32)\n",
            "tf.Tensor(11, shape=(), dtype=int32)\n",
            "tf.Tensor(13, shape=(), dtype=int32)\n",
            "tf.Tensor(17, shape=(), dtype=int32)\n",
            "tf.Tensor(19, shape=(), dtype=int32)\n",
            "tf.Tensor(23, shape=(), dtype=int32)\n",
            "tf.Tensor(29, shape=(), dtype=int32)\n",
            "tf.Tensor(31, shape=(), dtype=int32)\n",
            "tf.Tensor(37, shape=(), dtype=int32)\n",
            "tf.Tensor(41, shape=(), dtype=int32)\n",
            "tf.Tensor(1, shape=(), dtype=int32)\n",
            "tf.Tensor(2, shape=(), dtype=int32)\n",
            "tf.Tensor(3, shape=(), dtype=int32)\n",
            "tf.Tensor(5, shape=(), dtype=int32)\n",
            "tf.Tensor(7, shape=(), dtype=int32)\n",
            "tf.Tensor(11, shape=(), dtype=int32)\n",
            "tf.Tensor(13, shape=(), dtype=int32)\n",
            "tf.Tensor(17, shape=(), dtype=int32)\n",
            "tf.Tensor(19, shape=(), dtype=int32)\n",
            "tf.Tensor(23, shape=(), dtype=int32)\n",
            "tf.Tensor(29, shape=(), dtype=int32)\n",
            "tf.Tensor(31, shape=(), dtype=int32)\n",
            "tf.Tensor(37, shape=(), dtype=int32)\n",
            "tf.Tensor(41, shape=(), dtype=int32)\n"
          ]
        }
      ]
    },
    {
      "cell_type": "markdown",
      "source": [
        "**Using comma-separated value (CSV) files with datasets**"
      ],
      "metadata": {
        "id": "TWXi8w8S5DVi"
      }
    },
    {
      "cell_type": "code",
      "source": [
        "filename = [\"./size_1000.csv\"]\n",
        "record_defaults = [tf.float32] * 2 # two required float columns\n",
        "dataset = tf.data.experimental.CsvDataset(filename, record_defaults,\n",
        "header=True, select_cols=[1,2])\n",
        "for item in dataset:\n",
        "  print(item)\n"
      ],
      "metadata": {
        "id": "BPjcevle5KSe"
      },
      "execution_count": null,
      "outputs": []
    }
  ]
}